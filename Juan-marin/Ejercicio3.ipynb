{
 "cells": [
  {
   "cell_type": "code",
   "execution_count": 2,
   "id": "017350b7-afbb-4f09-a289-a0b394d54e9f",
   "metadata": {},
   "outputs": [
    {
     "name": "stdout",
     "output_type": "stream",
     "text": [
      "\n",
      "Resumen del estudiante: marcos\n",
      "Curso: matematicas\n",
      "  Promedio: 7.33\n",
      "  Estado: Aprobado\n",
      "Curso: historia\n",
      "  Promedio: 5.17\n",
      "  Estado: Reprobado\n",
      "----------------------------------------\n",
      "\n",
      "Resumen del estudiante: sofia\n",
      "Curso: matematicas\n",
      "  Promedio: 6.50\n",
      "  Estado: Aprobado\n",
      "Curso: Ciencias\n",
      "  Promedio: 5.43\n",
      "  Estado: Reprobado\n",
      "----------------------------------------\n"
     ]
    }
   ],
   "source": [
    "import numpy as np\n",
    "\n",
    "class Curso:\n",
    "    def __init__(self, nombre):\n",
    "        self.nombre = nombre\n",
    "        self.notas = []\n",
    "\n",
    "    def agregar_nota(self, nota):\n",
    "        self.notas.append(nota)\n",
    "\n",
    "    def promedio(self):\n",
    "        if len(self.notas) == 0:\n",
    "            return 0.0\n",
    "        return np.mean(self.notas)\n",
    "\n",
    "    def estado(self):\n",
    "        return \"Aprobado\" if self.promedio() >= 6 else \"Reprobado\"\n",
    "\n",
    "class Estudiante:\n",
    "    def __init__(self, nombre):\n",
    "        self.nombre = nombre\n",
    "        self.cursos = []\n",
    "\n",
    "    def inscribir_curso(self, curso):\n",
    "        self.cursos.append(curso)\n",
    "\n",
    "    def mostrar_resumen(self):\n",
    "        print(f\"\\nResumen del estudiante: {self.nombre}\")\n",
    "        for curso in self.cursos:\n",
    "            print(f\"Curso: {curso.nombre}\")\n",
    "            print(f\"  Promedio: {curso.promedio():.2f}\")\n",
    "            print(f\"  Estado: {curso.estado()}\")\n",
    "        print(\"-\" * 40)\n",
    "\n",
    "curso_mate1 = Curso(\"matematicas\")\n",
    "curso_hist1 = Curso(\"historia\")\n",
    "\n",
    "curso_mate2 = Curso(\"matematicas\")\n",
    "curso_cien2 = Curso(\"Ciencias\")\n",
    "\n",
    "for nota in [7.5, 8.0, 6.5]:\n",
    "    curso_mate1.agregar_nota(nota)\n",
    "for nota in [5.0, 4.5, 6.0]:\n",
    "    curso_hist1.agregar_nota(nota)\n",
    "\n",
    "for nota in [6.0, 6.5, 7.0]:\n",
    "    curso_mate2.agregar_nota(nota)\n",
    "for nota in [5.5, 5.0, 5.8]:\n",
    "    curso_cien2.agregar_nota(nota)\n",
    "\n",
    "est1 = Estudiante(\"marcos\")\n",
    "est2 = Estudiante(\"sofia\")\n",
    "\n",
    "est1.inscribir_curso(curso_mate1)\n",
    "est1.inscribir_curso(curso_hist1)\n",
    "\n",
    "est2.inscribir_curso(curso_mate2)\n",
    "est2.inscribir_curso(curso_cien2)\n",
    "\n",
    "est1.mostrar_resumen()\n",
    "est2.mostrar_resumen()\n"
   ]
  },
  {
   "cell_type": "code",
   "execution_count": null,
   "id": "cebcd835-92c9-4a90-9b72-e96099892095",
   "metadata": {},
   "outputs": [],
   "source": []
  }
 ],
 "metadata": {
  "kernelspec": {
   "display_name": "Python [conda env:base] *",
   "language": "python",
   "name": "conda-base-py"
  },
  "language_info": {
   "codemirror_mode": {
    "name": "ipython",
    "version": 3
   },
   "file_extension": ".py",
   "mimetype": "text/x-python",
   "name": "python",
   "nbconvert_exporter": "python",
   "pygments_lexer": "ipython3",
   "version": "3.12.7"
  }
 },
 "nbformat": 4,
 "nbformat_minor": 5
}
