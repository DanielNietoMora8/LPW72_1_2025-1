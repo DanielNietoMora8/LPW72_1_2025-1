{
  "metadata": {
    "kernelspec": {
      "name": "python",
      "display_name": "Python (Pyodide)",
      "language": "python"
    },
    "language_info": {
      "codemirror_mode": {
        "name": "python",
        "version": 3
      },
      "file_extension": ".py",
      "mimetype": "text/x-python",
      "name": "python",
      "nbconvert_exporter": "python",
      "pygments_lexer": "ipython3",
      "version": "3.8"
    }
  },
  "nbformat_minor": 5,
  "nbformat": 4,
  "cells": [
    {
      "id": "cb7406ee-7053-499a-94d5-192c75949b50",
      "cell_type": "code",
      "source": "class Empleado:\n    def __init__(self, nombre, salario_base, dias_trabajados):\n        self.nombre = nombre\n        self.salario_base = float(salario_base)\n \n        # Validar que los días trabajados no superen 30\n        if not (0 <= dias_trabajados <= 30):\n            raise ValueError(\"Los días trabajados deben estar entre 0 y 30.\")\n        self.dias_trabajados = dias_trabajados\n        self.bonificaciones = []\n        self.deducciones = []\n \n    def agregar_bonificacion(self, monto):\n        if monto < 0:\n            raise ValueError(\"La bonificación debe ser un valor positivo.\")\n        self.bonificaciones.append(monto)\n \n    def agregar_deduccion(self, monto):\n        if monto < 0:\n            raise ValueError(\"La deducción debe ser un valor positivo.\")\n        self.deducciones.append(monto)\n \n    def calcular_salario_final(self):\n        salario_proporcional = (self.salario_base * self.dias_trabajados) / 30\n        total_bonificaciones = sum(self.bonificaciones)\n        total_deducciones = sum(self.deducciones)\n        return salario_proporcional + total_bonificaciones - total_deducciones\n \n    def mostrar_info(self):\n        print(f\"Empleado: {self.nombre}\")\n        print(f\"Salario final: ${self.calcular_salario_final():.2f}\")\n        print(\"-------------------------------\")\n \n \n# Crear empleados y registrar información\ntry:\n    emp1 = Empleado(\"Ana\", 1500.0, 30)\n    emp1.agregar_bonificacion(100)\n    emp1.agregar_bonificacion(50)\n    emp1.agregar_deduccion(25)\n \n    emp2 = Empleado(\"Luis\", 2000.0, 28)\n    emp2.agregar_bonificacion(200)\n    emp2.agregar_deduccion(50)\n    emp2.agregar_deduccion(30)\n \n    emp3 = Empleado(\"María\", 1800.0, 26)\n    emp3.agregar_bonificacion(150)\n    emp3.agregar_deduccion(60)\n \n    # Mostrar resultados\n    emp1.mostrar_info()\n    emp2.mostrar_info()\n    emp3.mostrar_info()\n    \n \nexcept Exception as e:\n    print(\"Error:\", e)\n    ",
      "metadata": {
        "trusted": true
      },
      "outputs": [
        {
          "name": "stdout",
          "output_type": "stream",
          "text": "Empleado: Ana\nSalario final: $1625.00\n-------------------------------\nEmpleado: Luis\nSalario final: $1986.67\n-------------------------------\nEmpleado: María\nSalario final: $1650.00\n-------------------------------\n"
        }
      ],
      "execution_count": 3
    },
    {
      "id": "54442f5d-8b5c-4a90-be64-51f89c3fe515",
      "cell_type": "code",
      "source": "",
      "metadata": {
        "trusted": true
      },
      "outputs": [],
      "execution_count": null
    }
  ]
}