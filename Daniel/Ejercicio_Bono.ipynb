{
  "nbformat": 4,
  "nbformat_minor": 0,
  "metadata": {
    "colab": {
      "provenance": []
    },
    "kernelspec": {
      "name": "python3",
      "display_name": "Python 3"
    },
    "language_info": {
      "name": "python"
    }
  },
  "cells": [
    {
      "cell_type": "code",
      "source": [
        "import numpy as np\n",
        "import pandas as pd\n",
        "import matplotlib.pyplot as plt"
      ],
      "metadata": {
        "id": "v0_Xc2-BxK0s"
      },
      "execution_count": 180,
      "outputs": []
    },
    {
      "cell_type": "code",
      "execution_count": 181,
      "metadata": {
        "id": "F6BFCiY4phfN"
      },
      "outputs": [],
      "source": [
        "class Libro:\n",
        "  def __init__(self,titulo,autor,anio):\n",
        "    self.titulo = titulo\n",
        "    self.autor = autor\n",
        "    self.anio = anio\n",
        "    self.disponible = True\n",
        "\n",
        "class Usuario:\n",
        "  def __init__(self, nombre):\n",
        "    self.nombre = nombre\n",
        "    self.prestamos = []\n",
        "\n",
        "  def prestar_libros(self, libro):\n",
        "    if libro.titulo in self.prestamos:\n",
        "      print(self.nombre, \"Aacaba de prestar el libro\", libro.titulo)\n",
        "    elif len(self.prestamos)>=3:\n",
        "      print(self.nombre,\"No puede presatar mas libros\")\n",
        "    elif libro.disponible == False:\n",
        "      print(\"El libro\", libro.titulo, \"no esta disponible\")\n",
        "    else:\n",
        "      self.prestamos.append(libro.titulo)\n",
        "      libro.disponible = False\n",
        "\n",
        "  def devolver_libro(self, libro):\n",
        "    if libro.titulo in self.prestamos:\n",
        "      self.prestamos.remove(libro.titulo)\n",
        "      libro.disponible = True\n",
        "      print(self.nombre, \"Ha devuelto el libro\", libro.titulo)\n",
        "\n",
        "  def mostar_prestamos(self):\n",
        "    print(self.nombre, \"tiene prestados los siguientes libros:\")\n",
        "    if self.prestamos == []:\n",
        "      print(\"No tiene libros prestados\")\n",
        "    else:\n",
        "      for libro in self.prestamos:\n",
        "        print(\"-\", libro)"
      ]
    },
    {
      "cell_type": "code",
      "source": [
        "libro1 = Libro(\"Cien años de soledad\", \"Gabriel Garcia Marquez\", 1967)\n",
        "libro2 = Libro(\"El principito\", \"Antoine de Saint-Exupéry\", 1943)\n",
        "libro3 = Libro(\"El coronel no tiene quien le escriba\", \"Gabriel Garcia Marquez\", 1962)\n",
        "libro4 = Libro(\"Don Quijote de la Mancha\", \"Miguel de Cervantes\", 1605)"
      ],
      "metadata": {
        "id": "rElsvk2ysOkJ"
      },
      "execution_count": 182,
      "outputs": []
    },
    {
      "cell_type": "code",
      "source": [
        "usuario1 = Usuario(\"Ana\")\n",
        "usuario2 = Usuario(\"Juan\")"
      ],
      "metadata": {
        "id": "-4BwfUvLtxQb"
      },
      "execution_count": 183,
      "outputs": []
    }
  ]
}