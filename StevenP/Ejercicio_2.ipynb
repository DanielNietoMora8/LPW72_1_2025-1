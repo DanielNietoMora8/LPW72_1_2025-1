{
 "cells": [
  {
   "cell_type": "code",
   "execution_count": 209,
   "id": "883d7e11-47eb-4548-96ba-83834f78f975",
   "metadata": {},
   "outputs": [],
   "source": [
    "\n",
    "class Producto:\n",
    "    def __init__(self, nombre, precio, stock):\n",
    "        #Atributos\n",
    "        self.nombre = nombre #Nombre del producto\n",
    "        self.precio = precio #Precio del producto\n",
    "        self.stock = stock #Stock del producto\n",
    "\n",
    "class Categoria:\n",
    "    def __init__(self, nombre_cate):\n",
    "        self.nombre_cate = nombre_cate #Nombre de la categoría\n",
    "        self.productos = [] #Lista vacía de productos\n",
    "\n",
    "    #Agrega los objetos \"producto\" a la lista productos\n",
    "    def agregar_producto(self, producto):\n",
    "        self.productos.append(producto) \n",
    "\n",
    "    #Muestra los productos de la categoría\n",
    "    def mostrar_productos(self):\n",
    "         print(f\"Productos en la categoría >{self.nombre_cate}<:\\n\")\n",
    "         for producto in self.productos: #recorre la lista productos y muestra la información\n",
    "            print(f\"{producto.nombre} - Precio: ${producto.precio}M - Stock: {producto.stock}\") #Muestra producto, precio y stock \n",
    "\n",
    "    #Calcula la sumatoria de los productos en la categoría\n",
    "    def valor_total(self):\n",
    "        v_total = 0\n",
    "        for producto in self.productos:\n",
    "            v_total += producto.precio * producto.stock #recorre la lista de productos de la categoría y va efectuando la operación\n",
    "        print(f\"El valor total de la categoría '{self.nombre_cate}' es de: ${v_total}M\") #Muestra el resultado\n",
    "\n"
   ]
  },
  {
   "cell_type": "code",
   "execution_count": 193,
   "id": "89ee3568-0f60-4f73-80d0-b9e49cad055c",
   "metadata": {},
   "outputs": [],
   "source": [
    "prod1 = Producto(\"XTZ 150\", 13.2, 13)\n",
    "prod2 = Producto(\"XTZ 250\", 25.5, 10)\n",
    "prod2 = Producto(\"YZ250X\", 38.5, 5)\n",
    "\n",
    "prod3 = Producto(\"XR 150L\", 10.7, 14)\n",
    "prod4 = Producto(\"XR 190L\", 13.65, 15)\n",
    "prod5 = Producto(\"CRF 250R\", 43.99, 9)\n",
    "\n"
   ]
  },
  {
   "cell_type": "code",
   "execution_count": 195,
   "id": "62526587-d713-4691-91f2-66305790a778",
   "metadata": {},
   "outputs": [],
   "source": [
    "cate_Y = Categoria(\"Yamaha\")\n",
    "cate_Y.agregar_producto(prod1)\n",
    "cate_Y.agregar_producto(prod2)\n",
    "cate_Y.agregar_producto(prod3)\n"
   ]
  },
  {
   "cell_type": "code",
   "execution_count": 197,
   "id": "5e34a2ac-7483-4e6b-a23b-2c745cce64bd",
   "metadata": {},
   "outputs": [],
   "source": [
    "cate_H = Categoria(\"Honda\")\n",
    "cate_H.agregar_producto(prod3)\n",
    "cate_H.agregar_producto(prod4)\n",
    "cate_H.agregar_producto(prod5)"
   ]
  },
  {
   "cell_type": "code",
   "execution_count": 201,
   "id": "2b637a4c-e9a9-412a-a2ed-af96fe290e87",
   "metadata": {},
   "outputs": [
    {
     "name": "stdout",
     "output_type": "stream",
     "text": [
      "Productos en la categoría >Honda<:\n",
      "\n",
      "XR 150L - Precio: $10.7M - Stock: 14\n",
      "XR 190L - Precio: $13.65M - Stock: 15\n",
      "CRF 250R - Precio: $43.99M - Stock: 9\n"
     ]
    }
   ],
   "source": [
    "cate_H.mostrar_productos()"
   ]
  },
  {
   "cell_type": "code",
   "execution_count": 203,
   "id": "df9f5305-c51b-4650-a9e9-a65cd29917b8",
   "metadata": {},
   "outputs": [
    {
     "name": "stdout",
     "output_type": "stream",
     "text": [
      "Productos en la categoría >Yamaha<:\n",
      "\n",
      "XTZ 150 - Precio: $13.2M - Stock: 13\n",
      "YZ250X - Precio: $38.5M - Stock: 5\n",
      "XR 150L - Precio: $10.7M - Stock: 14\n"
     ]
    }
   ],
   "source": [
    "cate_Y.mostrar_productos()"
   ]
  },
  {
   "cell_type": "code",
   "execution_count": 205,
   "id": "9eaefc93-11c1-4ec2-ac4d-0ac8c9f42223",
   "metadata": {},
   "outputs": [
    {
     "name": "stdout",
     "output_type": "stream",
     "text": [
      "El valor total de la categoría 'Yamaha' es de: $513.9M\n"
     ]
    }
   ],
   "source": [
    "cate_Y.valor_total()"
   ]
  },
  {
   "cell_type": "code",
   "execution_count": 207,
   "id": "a9bb2e1d-6748-4b43-8917-8b64adc07939",
   "metadata": {},
   "outputs": [
    {
     "name": "stdout",
     "output_type": "stream",
     "text": [
      "El valor total de la categoría 'Honda' es de: $750.46M\n"
     ]
    }
   ],
   "source": [
    "cate_H.valor_total()"
   ]
  }
 ],
 "metadata": {
  "kernelspec": {
   "display_name": "Python [conda env:base] *",
   "language": "python",
   "name": "conda-base-py"
  },
  "language_info": {
   "codemirror_mode": {
    "name": "ipython",
    "version": 3
   },
   "file_extension": ".py",
   "mimetype": "text/x-python",
   "name": "python",
   "nbconvert_exporter": "python",
   "pygments_lexer": "ipython3",
   "version": "3.12.7"
  }
 },
 "nbformat": 4,
 "nbformat_minor": 5
}
