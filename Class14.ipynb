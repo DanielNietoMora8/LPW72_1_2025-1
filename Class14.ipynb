{
 "cells": [
  {
   "cell_type": "code",
   "execution_count": 1,
   "id": "a60cff2e7029f85e",
   "metadata": {
    "ExecuteTime": {
     "end_time": "2025-05-13T23:14:58.330928Z",
     "start_time": "2025-05-13T23:14:57.494576Z"
    }
   },
   "outputs": [],
   "source": [
    "import numpy as np\n",
    "import matplotlib.pyplot as plt"
   ]
  },
  {
   "cell_type": "code",
   "execution_count": 20,
   "id": "87118b60-1f74-46ca-9d5f-a40e90b247a9",
   "metadata": {},
   "outputs": [],
   "source": [
    "def es_primo(a, b):\n",
    "    lista_primos = []\n",
    "    lista_no_primos = []\n",
    "    for j in range(a, b+1):\n",
    "        aux = 0    \n",
    "        for i in range(1,j+1):\n",
    "            if j%i == 0:\n",
    "                aux+=1\n",
    "            else:\n",
    "                pass\n",
    "        if aux<=2:\n",
    "            lista_primos.append(j)\n",
    "        else:\n",
    "            lista_no_primos.append(j)\n",
    "\n",
    "    return lista_primos, lista_no_primos\n",
    "\n",
    "\n",
    "k, t = es_primo(5,220)"
   ]
  },
  {
   "cell_type": "code",
   "execution_count": 29,
   "id": "65c4e9ea-fa71-4000-b154-5de076d9c28c",
   "metadata": {},
   "outputs": [
    {
     "data": {
      "text/plain": [
       "str"
      ]
     },
     "execution_count": 29,
     "metadata": {},
     "output_type": "execute_result"
    }
   ],
   "source": [
    "a = [2,3,4]\n",
    "for i in range(len(a)):\n",
    "    a[i] = str(a[i])\n",
    "type(a[0])\n"
   ]
  },
  {
   "cell_type": "code",
   "execution_count": 35,
   "id": "82551c7f-5561-42ab-af5f-e83811f120f3",
   "metadata": {},
   "outputs": [
    {
     "data": {
      "text/plain": [
       "[5,\n",
       " 7,\n",
       " 11,\n",
       " 17,\n",
       " 19,\n",
       " 29,\n",
       " 41,\n",
       " 47,\n",
       " 59,\n",
       " 61,\n",
       " 67,\n",
       " 71,\n",
       " 79,\n",
       " 89,\n",
       " 97,\n",
       " 101,\n",
       " 107,\n",
       " 109,\n",
       " 127,\n",
       " 149,\n",
       " 151,\n",
       " 157,\n",
       " 167,\n",
       " 179,\n",
       " 181,\n",
       " 191,\n",
       " 197,\n",
       " 199,\n",
       " 211]"
      ]
     },
     "execution_count": 35,
     "metadata": {},
     "output_type": "execute_result"
    }
   ],
   "source": [
    "def primos_con_digito(lista, d):\n",
    "    new_list = []\n",
    "    for i in range(len(lista)):\n",
    "        lista[i] = str(lista[i])\n",
    "\n",
    "    for i in range(len(lista)):\n",
    "        if str(d) in lista[i]:\n",
    "            pass\n",
    "        else:\n",
    "            new_list.append(lista[i])\n",
    "\n",
    "    for i in range(len(new_list)):\n",
    "        new_list[i] = int(new_list[i])\n",
    "\n",
    "    return new_list\n",
    "\n",
    "primos_con_digito(k, 3)    "
   ]
  },
  {
   "cell_type": "code",
   "execution_count": 71,
   "id": "a4d19c66-9c6a-4c43-8430-8dc560b6a10b",
   "metadata": {},
   "outputs": [],
   "source": [
    "class Estudiante:\n",
    "    def __init__(self, nombre, notas):\n",
    "        self.nombre = nombre\n",
    "        self.notas = notas\n",
    "        self.aprobado = \"No se sabe\"\n",
    "\n",
    "    def calcular_promedio(self):\n",
    "        self.promedio = 0\n",
    "        for nota in (self.notas):\n",
    "            self.promedio+=nota\n",
    "        self.promedio = self.promedio/len(self.notas)\n",
    "\n",
    "    def esta_aprobado(self):\n",
    "        if self.promedio >=6:\n",
    "            self.aprobado = \"Aprobado\"\n",
    "            return True\n",
    "        else:\n",
    "            self.aprobado = \"Reprobado\"\n",
    "            return False\n",
    "\n",
    "    def mostrar_info(self):\n",
    "        print(f\"El estudiante {self.nombre} tiene un promedio de {self.promedio} y está {self.aprobado} \")\n",
    "\n",
    "Est1 = Estudiante(\"Juan\", [10,8.7,7.4])\n",
    "Est2 = Estudiante(\"Martín\", [2,5.7,3.4])\n",
    "Est3 = Estudiante(\"Mariana\", [10,8.7,9.4])\n",
    "    "
   ]
  },
  {
   "cell_type": "code",
   "execution_count": 72,
   "id": "33383478-d890-40db-88af-6a2caf414119",
   "metadata": {},
   "outputs": [],
   "source": [
    "Est1.calcular_promedio()\n",
    "Est2.calcular_promedio()\n",
    "Est3.calcular_promedio()\n",
    "\n"
   ]
  },
  {
   "cell_type": "code",
   "execution_count": 73,
   "id": "377c037c-f690-4500-b7bf-441e93eb27f2",
   "metadata": {},
   "outputs": [
    {
     "data": {
      "text/plain": [
       "True"
      ]
     },
     "execution_count": 73,
     "metadata": {},
     "output_type": "execute_result"
    }
   ],
   "source": [
    "Est1.esta_aprobado()\n",
    "Est2.esta_aprobado()\n",
    "Est3.esta_aprobado()\n",
    "\n"
   ]
  },
  {
   "cell_type": "code",
   "execution_count": 74,
   "id": "da56fbb6-ee7a-4911-b9c6-67f45a3deeb4",
   "metadata": {},
   "outputs": [
    {
     "name": "stdout",
     "output_type": "stream",
     "text": [
      "El estudiante Juan tiene un promedio de 8.700000000000001 y está Aprobado \n",
      "El estudiante Martín tiene un promedio de 3.6999999999999997 y está Reprobado \n",
      "El estudiante Mariana tiene un promedio de 9.366666666666667 y está Aprobado \n"
     ]
    }
   ],
   "source": [
    "Est1.mostrar_info()\n",
    "Est2.mostrar_info()\n",
    "Est3.mostrar_info()\n",
    "\n"
   ]
  },
  {
   "cell_type": "code",
   "execution_count": 84,
   "id": "9b1694b5-2f06-4f71-b3ed-11e312a3f260",
   "metadata": {},
   "outputs": [
    {
     "data": {
      "text/html": [
       "<div>\n",
       "<style scoped>\n",
       "    .dataframe tbody tr th:only-of-type {\n",
       "        vertical-align: middle;\n",
       "    }\n",
       "\n",
       "    .dataframe tbody tr th {\n",
       "        vertical-align: top;\n",
       "    }\n",
       "\n",
       "    .dataframe thead th {\n",
       "        text-align: right;\n",
       "    }\n",
       "</style>\n",
       "<table border=\"1\" class=\"dataframe\">\n",
       "  <thead>\n",
       "    <tr style=\"text-align: right;\">\n",
       "      <th></th>\n",
       "      <th>sepal_length</th>\n",
       "      <th>sepal_width</th>\n",
       "      <th>petal_length</th>\n",
       "      <th>petal_width</th>\n",
       "      <th>species</th>\n",
       "    </tr>\n",
       "  </thead>\n",
       "  <tbody>\n",
       "    <tr>\n",
       "      <th>0</th>\n",
       "      <td>5.1</td>\n",
       "      <td>3.5</td>\n",
       "      <td>1.4</td>\n",
       "      <td>0.2</td>\n",
       "      <td>setosa</td>\n",
       "    </tr>\n",
       "    <tr>\n",
       "      <th>1</th>\n",
       "      <td>4.9</td>\n",
       "      <td>3.0</td>\n",
       "      <td>1.4</td>\n",
       "      <td>0.2</td>\n",
       "      <td>setosa</td>\n",
       "    </tr>\n",
       "    <tr>\n",
       "      <th>2</th>\n",
       "      <td>4.7</td>\n",
       "      <td>3.2</td>\n",
       "      <td>1.3</td>\n",
       "      <td>0.2</td>\n",
       "      <td>setosa</td>\n",
       "    </tr>\n",
       "    <tr>\n",
       "      <th>3</th>\n",
       "      <td>4.6</td>\n",
       "      <td>3.1</td>\n",
       "      <td>1.5</td>\n",
       "      <td>0.2</td>\n",
       "      <td>setosa</td>\n",
       "    </tr>\n",
       "    <tr>\n",
       "      <th>4</th>\n",
       "      <td>5.0</td>\n",
       "      <td>3.6</td>\n",
       "      <td>1.4</td>\n",
       "      <td>0.2</td>\n",
       "      <td>setosa</td>\n",
       "    </tr>\n",
       "  </tbody>\n",
       "</table>\n",
       "</div>"
      ],
      "text/plain": [
       "   sepal_length  sepal_width  petal_length  petal_width species\n",
       "0           5.1          3.5           1.4          0.2  setosa\n",
       "1           4.9          3.0           1.4          0.2  setosa\n",
       "2           4.7          3.2           1.3          0.2  setosa\n",
       "3           4.6          3.1           1.5          0.2  setosa\n",
       "4           5.0          3.6           1.4          0.2  setosa"
      ]
     },
     "execution_count": 84,
     "metadata": {},
     "output_type": "execute_result"
    }
   ],
   "source": [
    "Iris.head()"
   ]
  },
  {
   "cell_type": "code",
   "execution_count": 85,
   "id": "f773d524-8e20-4863-b107-e895fe5310cc",
   "metadata": {},
   "outputs": [],
   "source": [
    "import pandas as pd\n",
    "\n",
    "Iris = pd.read_csv(\"iris.csv\")\n",
    "Iris.head()\n",
    "species = Iris.iloc[:,4]\n",
    "sepal_lenght = Iris.iloc[:,0]\n",
    "sepal_width = Iris.iloc[:,1]\n",
    "\n"
   ]
  },
  {
   "cell_type": "code",
   "execution_count": 88,
   "id": "2f19206e-195e-4a41-a4bd-a014915ceb87",
   "metadata": {},
   "outputs": [
    {
     "data": {
      "text/plain": [
       "3.0540000000000003"
      ]
     },
     "execution_count": 88,
     "metadata": {},
     "output_type": "execute_result"
    }
   ],
   "source": [
    "sepal_lenght.mean()\n",
    "sepal_width.mean()\n"
   ]
  },
  {
   "cell_type": "code",
   "execution_count": 78,
   "id": "2de8b0a1-67e1-4bd5-89d2-f3d9ab0ae3b5",
   "metadata": {},
   "outputs": [
    {
     "data": {
      "text/plain": [
       "{'ave', 'gato', 'perro'}"
      ]
     },
     "execution_count": 78,
     "metadata": {},
     "output_type": "execute_result"
    }
   ],
   "source": [
    "a = [\"perro\", \"gato\", \"perro\", \"ave\", \"ave\", \"ave\", \"gato\"]\n",
    "set(a)\n",
    "plt.hist() -> histograma\n",
    "plt.boxplot() \n",
    "plt."
   ]
  }
 ],
 "metadata": {
  "kernelspec": {
   "display_name": "Python 3 (ipykernel)",
   "language": "python",
   "name": "python3"
  },
  "language_info": {
   "codemirror_mode": {
    "name": "ipython",
    "version": 3
   },
   "file_extension": ".py",
   "mimetype": "text/x-python",
   "name": "python",
   "nbconvert_exporter": "python",
   "pygments_lexer": "ipython3",
   "version": "3.11.7"
  }
 },
 "nbformat": 4,
 "nbformat_minor": 5
}
